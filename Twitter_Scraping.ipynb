{
  "nbformat": 4,
  "nbformat_minor": 0,
  "metadata": {
    "colab": {
      "name": "Twitter Scraping.ipynb",
      "provenance": [],
      "collapsed_sections": []
    },
    "kernelspec": {
      "name": "python3",
      "display_name": "Python 3"
    },
    "language_info": {
      "name": "python"
    }
  },
  "cells": [
    {
      "cell_type": "code",
      "execution_count": 1,
      "metadata": {
        "id": "cpB05D98LJX2"
      },
      "outputs": [],
      "source": [
        "#importing the necessary libraries\n",
        "import json\n",
        "import csv\n",
        "import tweepy\n",
        "import re\n",
        "from tweepy import streaming\n",
        "from tweepy import StreamListener\n",
        "import pandas as pd"
      ]
    },
    {
      "cell_type": "code",
      "source": [
        "consumer_key = \"XXXXX\"\n",
        "consumer_secret = \"XXXXX\"\n",
        "access_token = \"XXXXX\"\n",
        "access_token_secret = \"XXXXX\"\n",
        "auth = tweepy.OAuthHandler(consumer_key, consumer_secret)\n",
        "auth.set_access_token(access_token, access_token_secret)\n",
        "api = tweepy.API(auth,wait_on_rate_limit=True)"
      ],
      "metadata": {
        "id": "P1XalJ59Lgp3"
      },
      "execution_count": 2,
      "outputs": []
    },
    {
      "cell_type": "code",
      "source": [
        "username = 'ibekwekingsley0'\n",
        " \n",
        "count = 150\n",
        "try:     \n",
        " # Creation of query method using parameters\n",
        " tweets = tweepy.Cursor(api.user_timeline,id=username).items(count)\n",
        " \n",
        " # Pulling information from tweets iterable object\n",
        " tweets_list = [[tweet.created_at, tweet.id, tweet.text] for tweet in tweets]\n",
        " \n",
        " # Creation of dataframe from tweets list\n",
        " # Add or remove columns as you remove tweet information\n",
        " # Creating a dataframe from the tweets list above\n",
        " tweets_df = pd.DataFrame(tweets_list, columns=['Datetime', 'Tweet Id', 'Tweet'])\n",
        "except BaseException as e:\n",
        "      print('failed on_status,',str(e))\n",
        "      time.sleep(3)"
      ],
      "metadata": {
        "id": "zyTsn7C6MQ_N"
      },
      "execution_count": 9,
      "outputs": []
    },
    {
      "cell_type": "code",
      "source": [
        "tweets_df.head()"
      ],
      "metadata": {
        "colab": {
          "base_uri": "https://localhost:8080/",
          "height": 206
        },
        "id": "lQsc7oo-MQzw",
        "outputId": "85e16e69-c66b-477a-c6ce-164e3fdf592f"
      },
      "execution_count": 10,
      "outputs": [
        {
          "output_type": "execute_result",
          "data": {
            "text/plain": [
              "             Datetime             Tweet Id  \\\n",
              "0 2022-05-14 13:58:23  1525475614391734273   \n",
              "1 2022-05-14 11:59:15  1525445635423469568   \n",
              "2 2022-04-20 14:46:18  1516790364903981059   \n",
              "3 2022-04-19 20:02:45  1516507616129781767   \n",
              "4 2022-04-19 19:58:52  1516506637254725641   \n",
              "\n",
              "                                               Tweet  \n",
              "0  @ZindiAfrica @kirill_eremenko @superdatasci @4...  \n",
              "1  I'm happy to share that I've completed the Mac...  \n",
              "2  @dsn_ai_network @black_in_ai @dsa_org @DeepInd...  \n",
              "3  Just click on the text you want to delete and ...  \n",
              "4  Do you know you can use ctrl+shift+L to replac...  "
            ],
            "text/html": [
              "\n",
              "  <div id=\"df-3d054722-4766-4ee8-acd5-27ae95d33bb8\">\n",
              "    <div class=\"colab-df-container\">\n",
              "      <div>\n",
              "<style scoped>\n",
              "    .dataframe tbody tr th:only-of-type {\n",
              "        vertical-align: middle;\n",
              "    }\n",
              "\n",
              "    .dataframe tbody tr th {\n",
              "        vertical-align: top;\n",
              "    }\n",
              "\n",
              "    .dataframe thead th {\n",
              "        text-align: right;\n",
              "    }\n",
              "</style>\n",
              "<table border=\"1\" class=\"dataframe\">\n",
              "  <thead>\n",
              "    <tr style=\"text-align: right;\">\n",
              "      <th></th>\n",
              "      <th>Datetime</th>\n",
              "      <th>Tweet Id</th>\n",
              "      <th>Tweet</th>\n",
              "    </tr>\n",
              "  </thead>\n",
              "  <tbody>\n",
              "    <tr>\n",
              "      <th>0</th>\n",
              "      <td>2022-05-14 13:58:23</td>\n",
              "      <td>1525475614391734273</td>\n",
              "      <td>@ZindiAfrica @kirill_eremenko @superdatasci @4...</td>\n",
              "    </tr>\n",
              "    <tr>\n",
              "      <th>1</th>\n",
              "      <td>2022-05-14 11:59:15</td>\n",
              "      <td>1525445635423469568</td>\n",
              "      <td>I'm happy to share that I've completed the Mac...</td>\n",
              "    </tr>\n",
              "    <tr>\n",
              "      <th>2</th>\n",
              "      <td>2022-04-20 14:46:18</td>\n",
              "      <td>1516790364903981059</td>\n",
              "      <td>@dsn_ai_network @black_in_ai @dsa_org @DeepInd...</td>\n",
              "    </tr>\n",
              "    <tr>\n",
              "      <th>3</th>\n",
              "      <td>2022-04-19 20:02:45</td>\n",
              "      <td>1516507616129781767</td>\n",
              "      <td>Just click on the text you want to delete and ...</td>\n",
              "    </tr>\n",
              "    <tr>\n",
              "      <th>4</th>\n",
              "      <td>2022-04-19 19:58:52</td>\n",
              "      <td>1516506637254725641</td>\n",
              "      <td>Do you know you can use ctrl+shift+L to replac...</td>\n",
              "    </tr>\n",
              "  </tbody>\n",
              "</table>\n",
              "</div>\n",
              "      <button class=\"colab-df-convert\" onclick=\"convertToInteractive('df-3d054722-4766-4ee8-acd5-27ae95d33bb8')\"\n",
              "              title=\"Convert this dataframe to an interactive table.\"\n",
              "              style=\"display:none;\">\n",
              "        \n",
              "  <svg xmlns=\"http://www.w3.org/2000/svg\" height=\"24px\"viewBox=\"0 0 24 24\"\n",
              "       width=\"24px\">\n",
              "    <path d=\"M0 0h24v24H0V0z\" fill=\"none\"/>\n",
              "    <path d=\"M18.56 5.44l.94 2.06.94-2.06 2.06-.94-2.06-.94-.94-2.06-.94 2.06-2.06.94zm-11 1L8.5 8.5l.94-2.06 2.06-.94-2.06-.94L8.5 2.5l-.94 2.06-2.06.94zm10 10l.94 2.06.94-2.06 2.06-.94-2.06-.94-.94-2.06-.94 2.06-2.06.94z\"/><path d=\"M17.41 7.96l-1.37-1.37c-.4-.4-.92-.59-1.43-.59-.52 0-1.04.2-1.43.59L10.3 9.45l-7.72 7.72c-.78.78-.78 2.05 0 2.83L4 21.41c.39.39.9.59 1.41.59.51 0 1.02-.2 1.41-.59l7.78-7.78 2.81-2.81c.8-.78.8-2.07 0-2.86zM5.41 20L4 18.59l7.72-7.72 1.47 1.35L5.41 20z\"/>\n",
              "  </svg>\n",
              "      </button>\n",
              "      \n",
              "  <style>\n",
              "    .colab-df-container {\n",
              "      display:flex;\n",
              "      flex-wrap:wrap;\n",
              "      gap: 12px;\n",
              "    }\n",
              "\n",
              "    .colab-df-convert {\n",
              "      background-color: #E8F0FE;\n",
              "      border: none;\n",
              "      border-radius: 50%;\n",
              "      cursor: pointer;\n",
              "      display: none;\n",
              "      fill: #1967D2;\n",
              "      height: 32px;\n",
              "      padding: 0 0 0 0;\n",
              "      width: 32px;\n",
              "    }\n",
              "\n",
              "    .colab-df-convert:hover {\n",
              "      background-color: #E2EBFA;\n",
              "      box-shadow: 0px 1px 2px rgba(60, 64, 67, 0.3), 0px 1px 3px 1px rgba(60, 64, 67, 0.15);\n",
              "      fill: #174EA6;\n",
              "    }\n",
              "\n",
              "    [theme=dark] .colab-df-convert {\n",
              "      background-color: #3B4455;\n",
              "      fill: #D2E3FC;\n",
              "    }\n",
              "\n",
              "    [theme=dark] .colab-df-convert:hover {\n",
              "      background-color: #434B5C;\n",
              "      box-shadow: 0px 1px 3px 1px rgba(0, 0, 0, 0.15);\n",
              "      filter: drop-shadow(0px 1px 2px rgba(0, 0, 0, 0.3));\n",
              "      fill: #FFFFFF;\n",
              "    }\n",
              "  </style>\n",
              "\n",
              "      <script>\n",
              "        const buttonEl =\n",
              "          document.querySelector('#df-3d054722-4766-4ee8-acd5-27ae95d33bb8 button.colab-df-convert');\n",
              "        buttonEl.style.display =\n",
              "          google.colab.kernel.accessAllowed ? 'block' : 'none';\n",
              "\n",
              "        async function convertToInteractive(key) {\n",
              "          const element = document.querySelector('#df-3d054722-4766-4ee8-acd5-27ae95d33bb8');\n",
              "          const dataTable =\n",
              "            await google.colab.kernel.invokeFunction('convertToInteractive',\n",
              "                                                     [key], {});\n",
              "          if (!dataTable) return;\n",
              "\n",
              "          const docLinkHtml = 'Like what you see? Visit the ' +\n",
              "            '<a target=\"_blank\" href=https://colab.research.google.com/notebooks/data_table.ipynb>data table notebook</a>'\n",
              "            + ' to learn more about interactive tables.';\n",
              "          element.innerHTML = '';\n",
              "          dataTable['output_type'] = 'display_data';\n",
              "          await google.colab.output.renderOutput(dataTable, element);\n",
              "          const docLink = document.createElement('div');\n",
              "          docLink.innerHTML = docLinkHtml;\n",
              "          element.appendChild(docLink);\n",
              "        }\n",
              "      </script>\n",
              "    </div>\n",
              "  </div>\n",
              "  "
            ]
          },
          "metadata": {},
          "execution_count": 10
        }
      ]
    },
    {
      "cell_type": "code",
      "source": [
        "#saving as a CSV File\n",
        "\n",
        "tweets_df.to_csv(\"Kingsley.csv\", index = False)"
      ],
      "metadata": {
        "id": "FYRNGBt8MQpF"
      },
      "execution_count": 11,
      "outputs": []
    },
    {
      "cell_type": "markdown",
      "source": [
        "Scraping Tweets from a text search query"
      ],
      "metadata": {
        "id": "5LM2Y-CxQe-T"
      }
    },
    {
      "cell_type": "code",
      "source": [
        "text_query = 'World Cup'\n",
        "count = 150\n",
        "try:\n",
        " # Creation of query method using parameters\n",
        " tweets = tweepy.Cursor(api.search,q=text_query).items(count)\n",
        " \n",
        " # Pulling information from tweets iterable object\n",
        " tweets_list = [[tweet.created_at, tweet.id, tweet.text] for tweet in tweets]\n",
        " \n",
        " # Creation of dataframe from tweets list\n",
        " # Add or remove columns as you remove tweet information\n",
        " tweets_df = pd.DataFrame(tweets_list,columns=['Datetime', 'Tweet Id', 'Tweet'])\n",
        " \n",
        "except BaseException as e:\n",
        "    print('failed on_status,',str(e))\n",
        "    time.sleep(3)"
      ],
      "metadata": {
        "id": "ZHQUvZ9BMQcB"
      },
      "execution_count": 9,
      "outputs": []
    },
    {
      "cell_type": "code",
      "source": [
        "tweets_df.head()"
      ],
      "metadata": {
        "colab": {
          "base_uri": "https://localhost:8080/",
          "height": 206
        },
        "id": "aMQVBvEAkbTn",
        "outputId": "a921d593-627d-472b-e44a-30e9d867eb94"
      },
      "execution_count": 10,
      "outputs": [
        {
          "output_type": "execute_result",
          "data": {
            "text/plain": [
              "             Datetime             Tweet Id  \\\n",
              "0 2022-05-23 11:17:05  1528696512439537666   \n",
              "1 2022-05-23 11:17:04  1528696509977329665   \n",
              "2 2022-05-23 11:17:00  1528696492411822080   \n",
              "3 2022-05-23 11:16:58  1528696486569050113   \n",
              "4 2022-05-23 11:16:56  1528696477740064768   \n",
              "\n",
              "                                               Tweet  \n",
              "0  RT @NewTimesRwanda: #BREAKING: PSG Academy Rwa...  \n",
              "1  #Rwanda #EastAfrica #Sport #Africa #Soccer Afr...  \n",
              "2  🛶🇮🇹 Christian Volpi riceve la prima convocazio...  \n",
              "3  RT @apothinker: kinnporsche is a life changing...  \n",
              "4  The 20 ladies in camp plus selected Under 19 p...  "
            ],
            "text/html": [
              "\n",
              "  <div id=\"df-26ae494b-5ae0-4482-9922-f1639e9f813c\">\n",
              "    <div class=\"colab-df-container\">\n",
              "      <div>\n",
              "<style scoped>\n",
              "    .dataframe tbody tr th:only-of-type {\n",
              "        vertical-align: middle;\n",
              "    }\n",
              "\n",
              "    .dataframe tbody tr th {\n",
              "        vertical-align: top;\n",
              "    }\n",
              "\n",
              "    .dataframe thead th {\n",
              "        text-align: right;\n",
              "    }\n",
              "</style>\n",
              "<table border=\"1\" class=\"dataframe\">\n",
              "  <thead>\n",
              "    <tr style=\"text-align: right;\">\n",
              "      <th></th>\n",
              "      <th>Datetime</th>\n",
              "      <th>Tweet Id</th>\n",
              "      <th>Tweet</th>\n",
              "    </tr>\n",
              "  </thead>\n",
              "  <tbody>\n",
              "    <tr>\n",
              "      <th>0</th>\n",
              "      <td>2022-05-23 11:17:05</td>\n",
              "      <td>1528696512439537666</td>\n",
              "      <td>RT @NewTimesRwanda: #BREAKING: PSG Academy Rwa...</td>\n",
              "    </tr>\n",
              "    <tr>\n",
              "      <th>1</th>\n",
              "      <td>2022-05-23 11:17:04</td>\n",
              "      <td>1528696509977329665</td>\n",
              "      <td>#Rwanda #EastAfrica #Sport #Africa #Soccer Afr...</td>\n",
              "    </tr>\n",
              "    <tr>\n",
              "      <th>2</th>\n",
              "      <td>2022-05-23 11:17:00</td>\n",
              "      <td>1528696492411822080</td>\n",
              "      <td>🛶🇮🇹 Christian Volpi riceve la prima convocazio...</td>\n",
              "    </tr>\n",
              "    <tr>\n",
              "      <th>3</th>\n",
              "      <td>2022-05-23 11:16:58</td>\n",
              "      <td>1528696486569050113</td>\n",
              "      <td>RT @apothinker: kinnporsche is a life changing...</td>\n",
              "    </tr>\n",
              "    <tr>\n",
              "      <th>4</th>\n",
              "      <td>2022-05-23 11:16:56</td>\n",
              "      <td>1528696477740064768</td>\n",
              "      <td>The 20 ladies in camp plus selected Under 19 p...</td>\n",
              "    </tr>\n",
              "  </tbody>\n",
              "</table>\n",
              "</div>\n",
              "      <button class=\"colab-df-convert\" onclick=\"convertToInteractive('df-26ae494b-5ae0-4482-9922-f1639e9f813c')\"\n",
              "              title=\"Convert this dataframe to an interactive table.\"\n",
              "              style=\"display:none;\">\n",
              "        \n",
              "  <svg xmlns=\"http://www.w3.org/2000/svg\" height=\"24px\"viewBox=\"0 0 24 24\"\n",
              "       width=\"24px\">\n",
              "    <path d=\"M0 0h24v24H0V0z\" fill=\"none\"/>\n",
              "    <path d=\"M18.56 5.44l.94 2.06.94-2.06 2.06-.94-2.06-.94-.94-2.06-.94 2.06-2.06.94zm-11 1L8.5 8.5l.94-2.06 2.06-.94-2.06-.94L8.5 2.5l-.94 2.06-2.06.94zm10 10l.94 2.06.94-2.06 2.06-.94-2.06-.94-.94-2.06-.94 2.06-2.06.94z\"/><path d=\"M17.41 7.96l-1.37-1.37c-.4-.4-.92-.59-1.43-.59-.52 0-1.04.2-1.43.59L10.3 9.45l-7.72 7.72c-.78.78-.78 2.05 0 2.83L4 21.41c.39.39.9.59 1.41.59.51 0 1.02-.2 1.41-.59l7.78-7.78 2.81-2.81c.8-.78.8-2.07 0-2.86zM5.41 20L4 18.59l7.72-7.72 1.47 1.35L5.41 20z\"/>\n",
              "  </svg>\n",
              "      </button>\n",
              "      \n",
              "  <style>\n",
              "    .colab-df-container {\n",
              "      display:flex;\n",
              "      flex-wrap:wrap;\n",
              "      gap: 12px;\n",
              "    }\n",
              "\n",
              "    .colab-df-convert {\n",
              "      background-color: #E8F0FE;\n",
              "      border: none;\n",
              "      border-radius: 50%;\n",
              "      cursor: pointer;\n",
              "      display: none;\n",
              "      fill: #1967D2;\n",
              "      height: 32px;\n",
              "      padding: 0 0 0 0;\n",
              "      width: 32px;\n",
              "    }\n",
              "\n",
              "    .colab-df-convert:hover {\n",
              "      background-color: #E2EBFA;\n",
              "      box-shadow: 0px 1px 2px rgba(60, 64, 67, 0.3), 0px 1px 3px 1px rgba(60, 64, 67, 0.15);\n",
              "      fill: #174EA6;\n",
              "    }\n",
              "\n",
              "    [theme=dark] .colab-df-convert {\n",
              "      background-color: #3B4455;\n",
              "      fill: #D2E3FC;\n",
              "    }\n",
              "\n",
              "    [theme=dark] .colab-df-convert:hover {\n",
              "      background-color: #434B5C;\n",
              "      box-shadow: 0px 1px 3px 1px rgba(0, 0, 0, 0.15);\n",
              "      filter: drop-shadow(0px 1px 2px rgba(0, 0, 0, 0.3));\n",
              "      fill: #FFFFFF;\n",
              "    }\n",
              "  </style>\n",
              "\n",
              "      <script>\n",
              "        const buttonEl =\n",
              "          document.querySelector('#df-26ae494b-5ae0-4482-9922-f1639e9f813c button.colab-df-convert');\n",
              "        buttonEl.style.display =\n",
              "          google.colab.kernel.accessAllowed ? 'block' : 'none';\n",
              "\n",
              "        async function convertToInteractive(key) {\n",
              "          const element = document.querySelector('#df-26ae494b-5ae0-4482-9922-f1639e9f813c');\n",
              "          const dataTable =\n",
              "            await google.colab.kernel.invokeFunction('convertToInteractive',\n",
              "                                                     [key], {});\n",
              "          if (!dataTable) return;\n",
              "\n",
              "          const docLinkHtml = 'Like what you see? Visit the ' +\n",
              "            '<a target=\"_blank\" href=https://colab.research.google.com/notebooks/data_table.ipynb>data table notebook</a>'\n",
              "            + ' to learn more about interactive tables.';\n",
              "          element.innerHTML = '';\n",
              "          dataTable['output_type'] = 'display_data';\n",
              "          await google.colab.output.renderOutput(dataTable, element);\n",
              "          const docLink = document.createElement('div');\n",
              "          docLink.innerHTML = docLinkHtml;\n",
              "          element.appendChild(docLink);\n",
              "        }\n",
              "      </script>\n",
              "    </div>\n",
              "  </div>\n",
              "  "
            ]
          },
          "metadata": {},
          "execution_count": 10
        }
      ]
    },
    {
      "cell_type": "code",
      "source": [
        ""
      ],
      "metadata": {
        "id": "UFtWwe4zka9O"
      },
      "execution_count": null,
      "outputs": []
    },
    {
      "cell_type": "code",
      "source": [
        ""
      ],
      "metadata": {
        "id": "eEflgZPVkasP"
      },
      "execution_count": null,
      "outputs": []
    },
    {
      "cell_type": "code",
      "source": [
        ""
      ],
      "metadata": {
        "id": "1jaQhMohkZWe"
      },
      "execution_count": null,
      "outputs": []
    },
    {
      "cell_type": "code",
      "source": [
        ""
      ],
      "metadata": {
        "id": "78kFEzAFkZHm"
      },
      "execution_count": null,
      "outputs": []
    }
  ]
}
